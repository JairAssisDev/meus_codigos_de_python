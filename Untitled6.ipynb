{
  "nbformat": 4,
  "nbformat_minor": 0,
  "metadata": {
    "colab": {
      "provenance": [],
      "authorship_tag": "ABX9TyNu+j0CN4xjQiMN/Ocs6et5",
      "include_colab_link": true
    },
    "kernelspec": {
      "name": "python3",
      "display_name": "Python 3"
    },
    "language_info": {
      "name": "python"
    }
  },
  "cells": [
    {
      "cell_type": "markdown",
      "metadata": {
        "id": "view-in-github",
        "colab_type": "text"
      },
      "source": [
        "<a href=\"https://colab.research.google.com/github/JairAssisDev/meus_codigos_de_python/blob/main/Untitled6.ipynb\" target=\"_parent\"><img src=\"https://colab.research.google.com/assets/colab-badge.svg\" alt=\"Open In Colab\"/></a>"
      ]
    },
    {
      "cell_type": "markdown",
      "source": [
        "1. Faça um programa que receba dois números, calcule e mostre a divisão do primeiro pelo segundo. Sabe-se que o segundo número não pode ser zero, portanto, não é necessário se preocupar com validações.\n",
        "\n",
        "2. Faça um programa que receba o peso de uma pessoa, calcule e mostre:\n",
        "      a. o novo peso, se a pessoa engordar 15% sobre o peso digitado.\n",
        "      b. o novo peso, se a pessoa emagrecer 20% sobre o peso digitado.\n",
        "\n",
        "3. Faça um programa que calcule e mostre a área de um losango.\n",
        "      Sabe-se que: Área = (diagonal maior * diagonal menor) / 2\n",
        "\n",
        "4.  Faça um programa que receba a medida de dois ângulos de um triângulo, calcule e mostre a medida do terceiro ângulo. Sabe-se que a soma dos ângulos de um triângulo é 180 graus.\n",
        "\n",
        "5. Faça um programa que receba uma hora (uma variável para hora e outra para minutos), calcule e mostre:\n",
        "      a. a hora digitada convertida em minutos;\n",
        "      b. o total de minutos, ou seja, os minutos digitados mais a conversão anterior;\n",
        "      c. o total de minutos convertidos em segundos.\n"
      ],
      "metadata": {
        "id": "3MiTAOSqM9Cp"
      }
    },
    {
      "cell_type": "code",
      "execution_count": null,
      "metadata": {
        "colab": {
          "base_uri": "https://localhost:8080/"
        },
        "id": "PwbgOKLtMiaU",
        "outputId": "810e3d14-386f-4a7d-b8df-f4cf99714881"
      },
      "outputs": [
        {
          "output_type": "stream",
          "name": "stdout",
          "text": [
            "digite o numero um : 24234\n",
            "digite o numero dois : 0\n",
            "seu segunto numero é 0 \n"
          ]
        }
      ],
      "source": [
        "#1 (x-/)->--:=\n",
        "j=int(input(\"digite o numero um : \"))\n",
        "a=int(input(\"digite o numero dois : \"))\n",
        "if a>0:\n",
        "  i=j/a\n",
        "  print(i)\n",
        "else:\n",
        "  print(\"seu segunto numero é 0 \")"
      ]
    },
    {
      "cell_type": "code",
      "source": [
        "#2 (:-D)<--<\n",
        "j=int(input(\"digite seu peso: \"))\n",
        "a=j*0.15\n",
        "i=j*0.20\n",
        "mg=j+a\n",
        "mm=j-i\n",
        "print(\"vamos  mostra sou peso se você engordar 15% do seu peso ele sera :\",mg,\" vc ganhou : \",a)\n",
        "print(\"vamos  mostra sou peso se você emagrecer 20% do seu peso ele sera :\",mm,\" vc perdeu : \",i)"
      ],
      "metadata": {
        "colab": {
          "base_uri": "https://localhost:8080/"
        },
        "id": "RrZarIBTQWJA",
        "outputId": "9c8715d1-9d20-4888-9758-033697ff60f0"
      },
      "execution_count": null,
      "outputs": [
        {
          "output_type": "stream",
          "name": "stdout",
          "text": [
            "digite seu peso: 200\n",
            "vamos  mostra sou peso se você engordar 15% do seu peso ele sera : 230.0  vc ganhou :  30.0\n",
            "vamos  mostra sou peso se você emagrecer 20% do seu peso ele sera : 160.0  vc perdeu :  40.0\n"
          ]
        }
      ]
    },
    {
      "cell_type": "code",
      "source": [
        "#3 (:-()<--<\n",
        "j=int(input(\"digite o diagonal maior \"))\n",
        "a=int(input(\"digite o diagonal menor \"))\n",
        "area = (j * a) / 2\n",
        "print(area)"
      ],
      "metadata": {
        "colab": {
          "base_uri": "https://localhost:8080/"
        },
        "id": "B0uCKwEZTR54",
        "outputId": "dabdf578-8962-47b9-d808-3459b7970bda"
      },
      "execution_count": null,
      "outputs": [
        {
          "output_type": "stream",
          "name": "stdout",
          "text": [
            "digite o diagonal maior 5\n",
            "digite o diagonal menor 4\n",
            "10.0\n"
          ]
        }
      ]
    },
    {
      "cell_type": "code",
      "source": [
        "a1=int(input(\"digite o angulo um: \"))\n",
        "a2=int(input(\"digite o angulo dois: \"))\n",
        "a3=180-(a1+a2)\n",
        "print(a3)"
      ],
      "metadata": {
        "colab": {
          "base_uri": "https://localhost:8080/"
        },
        "id": "S2sHecvxVdRI",
        "outputId": "03353f9a-2f5e-4632-ab9c-30b4074ba39a"
      },
      "execution_count": null,
      "outputs": [
        {
          "output_type": "stream",
          "name": "stdout",
          "text": [
            "digite o angulo um: 46\n",
            "digite o angulo dois: 66\n",
            "68\n"
          ]
        }
      ]
    },
    {
      "cell_type": "code",
      "source": [
        "#5 [:-]<--<\n",
        "ja=int(input(\"digite a hora: \"))\n",
        "ir=int(input(\"digite os minutos: \"))\n",
        "jam=ja*60\n",
        "sm=jam+ir\n",
        "ss=sm*60\n",
        "print(\"horas comvertida em minutos \",jam)\n",
        "print(\"a soma das horas e minutos= \",sm )\n",
        "print(\"suma das horas em seguntos= \",ss)"
      ],
      "metadata": {
        "colab": {
          "base_uri": "https://localhost:8080/"
        },
        "id": "Bbuv_7meXqAw",
        "outputId": "196f9bca-8f36-47b1-87ba-a0c0a50b6934"
      },
      "execution_count": null,
      "outputs": [
        {
          "output_type": "stream",
          "name": "stdout",
          "text": [
            "digite a hora: 5\n",
            "digite os minutos: 40\n",
            "horas comvertida em minutos  300\n"
          ]
        }
      ]
    }
  ]
}