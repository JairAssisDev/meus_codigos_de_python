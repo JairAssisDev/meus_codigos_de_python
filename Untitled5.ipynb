{
  "nbformat": 4,
  "nbformat_minor": 0,
  "metadata": {
    "colab": {
      "provenance": [],
      "authorship_tag": "ABX9TyPbeVc7G6y8MD1zeCJiDyKF",
      "include_colab_link": true
    },
    "kernelspec": {
      "name": "python3",
      "display_name": "Python 3"
    },
    "language_info": {
      "name": "python"
    }
  },
  "cells": [
    {
      "cell_type": "markdown",
      "metadata": {
        "id": "view-in-github",
        "colab_type": "text"
      },
      "source": [
        "<a href=\"https://colab.research.google.com/github/JairAssisDev/meus_codigos_de_python/blob/main/Untitled5.ipynb\" target=\"_parent\"><img src=\"https://colab.research.google.com/assets/colab-badge.svg\" alt=\"Open In Colab\"/></a>"
      ]
    },
    {
      "cell_type": "markdown",
      "source": [
        "Os dicionários são coleções de itens e seus elementos são armazenados de forma não ordenada.\n",
        "Uma chave que vai servir para indexar (posicionar) determinado elemento no dicionário.\n",
        "Um valor que contém… Bem, um valor :laughing: Este valor aceita diversos tipos: listas, outros dicionários, inteiros, strings e etc.\n",
        "Sua sintaxe básica é: {'chave': 'valor'}. Utiliza-se {} para delimitar o dicionário e a chave é separada do valor por dois pontos :"
      ],
      "metadata": {
        "id": "EPM5ZoIKHk-L"
      }
    },
    {
      "cell_type": "code",
      "execution_count": null,
      "metadata": {
        "colab": {
          "base_uri": "https://localhost:8080/"
        },
        "id": "kCOr5BoOBDpc",
        "outputId": "a81f55b8-bd36-4ac6-ff71-247a4c8346c8"
      },
      "outputs": [
        {
          "output_type": "stream",
          "name": "stdout",
          "text": [
            "{'chave': 'valor'}\n"
          ]
        }
      ],
      "source": [
        "dicio = {'chave': 'valor'}\n",
        "\n",
        "print(type(dicio))"
      ]
    },
    {
      "cell_type": "markdown",
      "source": [
        "Quando utilizar type() e a saída for essa abaixo, pode ter certeza que é um dicionário\n",
        "\n",
        ".\n",
        "<class 'dict'>\n"
      ],
      "metadata": {
        "id": "bulQ_nYuIdxj"
      }
    },
    {
      "cell_type": "markdown",
      "source": [
        "Podemos percorrer os elementos de um Dicionário a partir de suas chaves dict.keys()"
      ],
      "metadata": {
        "id": "C2JxFxPsMChM"
      }
    },
    {
      "cell_type": "code",
      "source": [
        "cp = {'CPU': 'Intel', 'RAM': '8gb', 'SSD': '250bg'}\n",
        "\n",
        "for chave in cp.keys():\n",
        "  print(f'Chave = {chave} e Valor = {cp[chave]}')"
      ],
      "metadata": {
        "colab": {
          "base_uri": "https://localhost:8080/"
        },
        "id": "uEdP3IXuIa2q",
        "outputId": "3c6bc9db-9fd1-4332-d7b9-ab13854195c3"
      },
      "execution_count": null,
      "outputs": [
        {
          "output_type": "stream",
          "name": "stdout",
          "text": [
            "Chave = CPU e Valor = Intel\n",
            "Chave = RAM e Valor = 8gb\n",
            "Chave = SSD e Valor = 250bg\n"
          ]
        }
      ]
    },
    {
      "cell_type": "markdown",
      "source": [
        "Percorrendo elementos com a função dict.values()"
      ],
      "metadata": {
        "id": "XSexdPpjMeVb"
      }
    },
    {
      "cell_type": "code",
      "source": [
        "notas = {'Mat': 10, 'Por': 5.5, 'His': 7}\n",
        "\n",
        "for vn in notas.values():\n",
        "    print(f'Valor: {vn}')"
      ],
      "metadata": {
        "colab": {
          "base_uri": "https://localhost:8080/"
        },
        "id": "6ZpNxQXnMcjr",
        "outputId": "a23cad79-66f7-44de-ca4d-802e96b12967"
      },
      "execution_count": null,
      "outputs": [
        {
          "output_type": "stream",
          "name": "stdout",
          "text": [
            "Valor: 10\n",
            "Valor: 5.5\n",
            "Valor: 7\n"
          ]
        }
      ]
    },
    {
      "cell_type": "code",
      "source": [],
      "metadata": {
        "id": "8OQQEhNJNp-j"
      },
      "execution_count": null,
      "outputs": []
    }
  ]
}