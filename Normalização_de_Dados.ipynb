{
  "nbformat": 4,
  "nbformat_minor": 0,
  "metadata": {
    "colab": {
      "provenance": [],
      "authorship_tag": "ABX9TyN+N3315uoi9Cfzzrl6HPdB",
      "include_colab_link": true
    },
    "kernelspec": {
      "name": "python3",
      "display_name": "Python 3"
    },
    "language_info": {
      "name": "python"
    }
  },
  "cells": [
    {
      "cell_type": "markdown",
      "metadata": {
        "id": "view-in-github",
        "colab_type": "text"
      },
      "source": [
        "<a href=\"https://colab.research.google.com/github/JairAssisDev/meus_codigos_de_python/blob/main/Normaliza%C3%A7%C3%A3o_de_Dados.ipynb\" target=\"_parent\"><img src=\"https://colab.research.google.com/assets/colab-badge.svg\" alt=\"Open In Colab\"/></a>"
      ]
    },
    {
      "cell_type": "code",
      "execution_count": 1,
      "metadata": {
        "colab": {
          "base_uri": "https://localhost:8080/"
        },
        "id": "NdJxYFJGWKpA",
        "outputId": "6a68d559-82cc-4a12-b7ea-49f97ef60624"
      },
      "outputs": [
        {
          "output_type": "stream",
          "name": "stdout",
          "text": [
            "Dados originais: [ 2.  5. 10. 15. 20.]\n",
            "Dados escalonados Min-Max: [0.         0.16666667 0.44444444 0.72222222 1.        ]\n"
          ]
        }
      ],
      "source": [
        "import numpy as np\n",
        "\n",
        "# Seu conjunto de dados de exemplo (substitua isso pelos seus dados)\n",
        "data = np.array([2.0, 5.0, 10.0, 15.0, 20.0])\n",
        "\n",
        "# Calcule o mínimo e o máximo dos dados\n",
        "min_value = np.min(data)\n",
        "max_value = np.max(data)\n",
        "\n",
        "# Aplique o escalonamento Min-Max\n",
        "scaled_data = (data - min_value) / (max_value - min_value)\n",
        "\n",
        "print(\"Dados originais:\", data)\n",
        "print(\"Dados escalonados Min-Max:\", scaled_data)\n"
      ]
    },
    {
      "cell_type": "code",
      "source": [
        "import numpy as np\n",
        "\n",
        "# Seu conjunto de dados de exemplo (substitua isso pelos seus dados)\n",
        "data = np.array([2.0, 5.0, 10.0, 15.0, 20.0])\n",
        "\n",
        "# Calcule a média e o desvio padrão dos dados\n",
        "mean = np.mean(data)\n",
        "std_dev = np.std(data)\n",
        "\n",
        "# Aplique a padronização Z-Score\n",
        "standardized_data = (data - mean) / std_dev\n",
        "\n",
        "print(\"Dados originais:\", data)\n",
        "print(\"Dados padronizados Z-Score:\", standardized_data)\n"
      ],
      "metadata": {
        "colab": {
          "base_uri": "https://localhost:8080/"
        },
        "id": "HOMf1VLBW4RB",
        "outputId": "f59a55d8-249d-4b7e-aa88-7130f3efa004"
      },
      "execution_count": 2,
      "outputs": [
        {
          "output_type": "stream",
          "name": "stdout",
          "text": [
            "Dados originais: [ 2.  5. 10. 15. 20.]\n",
            "Dados padronizados Z-Score: [-1.28638417 -0.82696125 -0.06125639  0.70444848  1.47015334]\n"
          ]
        }
      ]
    },
    {
      "cell_type": "code",
      "source": [
        "import numpy as np\n",
        "\n",
        "# Seu conjunto de dados de exemplo (substitua isso pelos seus dados)\n",
        "data = np.array([2.0, 5.0, 10.0, 15.0, 200.0])\n",
        "\n",
        "# Calcule a mediana e o IQR dos dados\n",
        "median = np.median(data)\n",
        "iqr = np.percentile(data, 75) - np.percentile(data, 25)\n",
        "\n",
        "# Aplique a escala robusta\n",
        "robust_scaled_data = (data - median) / iqr\n",
        "\n",
        "print(\"Dados originais:\", data)\n",
        "print(\"Dados escalonados robustamente:\", robust_scaled_data)\n"
      ],
      "metadata": {
        "colab": {
          "base_uri": "https://localhost:8080/"
        },
        "id": "vNl4omKoXRUh",
        "outputId": "b47c2972-9652-4019-b737-95d56f67dfe5"
      },
      "execution_count": 3,
      "outputs": [
        {
          "output_type": "stream",
          "name": "stdout",
          "text": [
            "Dados originais: [  2.   5.  10.  15. 200.]\n",
            "Dados escalonados robustamente: [-0.8 -0.5  0.   0.5 19. ]\n"
          ]
        }
      ]
    },
    {
      "cell_type": "code",
      "source": [
        "import numpy as np\n",
        "\n",
        "# Seu conjunto de dados de exemplo (substitua isso pelos seus dados)\n",
        "data = np.array([1.0, 2.0, 4.0, 8.0, 16.0])\n",
        "\n",
        "# Aplique a transformação logarítmica (ln)\n",
        "log_transformed_data = np.log(data)\n",
        "\n",
        "print(\"Dados originais:\", data)\n",
        "print(\"Dados após transformação logarítmica (ln):\", log_transformed_data)\n"
      ],
      "metadata": {
        "colab": {
          "base_uri": "https://localhost:8080/"
        },
        "id": "Rc2JbOeKXuvR",
        "outputId": "23074c68-c3ac-4ec8-dc85-7c8e043aacf4"
      },
      "execution_count": 4,
      "outputs": [
        {
          "output_type": "stream",
          "name": "stdout",
          "text": [
            "Dados originais: [ 1.  2.  4.  8. 16.]\n",
            "Dados após transformação logarítmica (ln): [0.         0.69314718 1.38629436 2.07944154 2.77258872]\n"
          ]
        }
      ]
    },
    {
      "cell_type": "code",
      "source": [
        "import numpy as np\n",
        "from scipy import stats\n",
        "\n",
        "# Seu conjunto de dados de exemplo (substitua isso pelos seus dados)\n",
        "data = np.array([1.0, 2.0, 4.0, 8.0, 16.0])\n",
        "\n",
        "# Aplique a transformação Box-Cox\n",
        "transformed_data, lambda_value = stats.boxcox(data)\n",
        "\n",
        "print(\"Dados originais:\", data)\n",
        "print(\"Dados após a transformação Box-Cox:\", transformed_data)\n",
        "print(\"Valor lambda estimado:\", lambda_value)\n"
      ],
      "metadata": {
        "colab": {
          "base_uri": "https://localhost:8080/"
        },
        "id": "4QhnnMSUYEoo",
        "outputId": "84a393d4-817f-407f-a809-4c6de3664722"
      },
      "execution_count": 5,
      "outputs": [
        {
          "output_type": "stream",
          "name": "stdout",
          "text": [
            "Dados originais: [ 1.  2.  4.  8. 16.]\n",
            "Dados após a transformação Box-Cox: [0.         0.69314718 1.38629437 2.07944157 2.77258877]\n",
            "Valor lambda estimado: 1.204940897059359e-08\n"
          ]
        }
      ]
    },
    {
      "cell_type": "code",
      "source": [
        "import numpy as np\n",
        "\n",
        "# Seu conjunto de dados de exemplo (substitua isso pelos seus dados)\n",
        "data = np.array([2.0, 5.0, 10.0, 15.0, 20.0])\n",
        "\n",
        "# Calcule a magnitude do vetor\n",
        "magnitude = np.linalg.norm(data)\n",
        "\n",
        "# Aplique a escala de vetor unitário\n",
        "unit_vector_scaled_data = data / magnitude\n",
        "\n",
        "print(\"Dados originais:\", data)\n",
        "print(\"Dados escalonados para o vetor unitário:\", unit_vector_scaled_data)"
      ],
      "metadata": {
        "colab": {
          "base_uri": "https://localhost:8080/"
        },
        "id": "z67XzkqUav1w",
        "outputId": "fc26ef64-153d-420b-beff-1891d33706e7"
      },
      "execution_count": 6,
      "outputs": [
        {
          "output_type": "stream",
          "name": "stdout",
          "text": [
            "Dados originais: [ 2.  5. 10. 15. 20.]\n",
            "Dados escalonados para o vetor unitário: [0.0728357  0.18208926 0.36417852 0.54626778 0.72835704]\n"
          ]
        }
      ]
    }
  ]
}