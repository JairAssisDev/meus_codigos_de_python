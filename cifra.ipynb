{
  "nbformat": 4,
  "nbformat_minor": 0,
  "metadata": {
    "colab": {
      "provenance": [],
      "authorship_tag": "ABX9TyOXRWttdKSOcqnHAsxT+HhS",
      "include_colab_link": true
    },
    "kernelspec": {
      "name": "python3",
      "display_name": "Python 3"
    },
    "language_info": {
      "name": "python"
    }
  },
  "cells": [
    {
      "cell_type": "markdown",
      "metadata": {
        "id": "view-in-github",
        "colab_type": "text"
      },
      "source": [
        "<a href=\"https://colab.research.google.com/github/JairAssisDev/meus_codigos_de_python/blob/main/cifra.ipynb\" target=\"_parent\"><img src=\"https://colab.research.google.com/assets/colab-badge.svg\" alt=\"Open In Colab\"/></a>"
      ]
    },
    {
      "cell_type": "code",
      "execution_count": null,
      "metadata": {
        "id": "y73AtvY3xp0R"
      },
      "outputs": [],
      "source": [
        "def recebeChave():\n",
        "    chave = 1\n",
        "    entrada_valida = False\n",
        "    while not entrada_valida:\n",
        "        chave = int(input(\"Digite o valor da chave: \"))\n",
        "        \n",
        "        if 1 <= chave <= 26:\n",
        "            entrada_valida = True\n",
        "        else:\n",
        "            print(\"ERRO: Entrada inválida para a chave (1 a 26)\")\n",
        "    return chave\n",
        "def encripta( mensagem, chave):\n",
        "    cripto = ''\n",
        "    for i in mensagem:\n",
        "        if 'A' <= i <= 'Z':\n",
        "            if ord(i) + chave > ord('Z'):\n",
        "                cripto += chr((ord('A') + chave - (ord('Z') + 1 - ord(i))))\n",
        "            else:\n",
        "                cripto += chr(ord(i) + chave)\n",
        "        elif 'a' <= i <= 'z':\n",
        "            if ord(i) + chave > ord('z'):\n",
        "                cripto += chr((ord('a') + chave - (ord('z') + 1 - ord(i))))\n",
        "            else:\n",
        "                cripto += chr(ord(i) + chave)\n",
        "        else:\n",
        "            cripto += i\n",
        "    return cripto\n",
        "\n",
        "\n",
        "x=recebeChave()\n",
        "with open('texto.txt','r') as arq:\n",
        "  tx = arq.read()\n",
        "texto1=tx\n",
        "\n",
        "with open('criptografado.txt','w') as arq:\n",
        "  arq.write(''.join(encripta(texto1,x)))"
      ]
    },
    {
      "cell_type": "code",
      "source": [
        "with open('criptografado.txt','r') as arq:\n",
        "  tx2 = arq.read()\n",
        "pse = tx2.replace(' ','')\n",
        "lista={}\n",
        "for jair in pse:\n",
        "  lista.setdefault(jair, 0)\n",
        "  lista[jair]+=1\n",
        "for i in sorted(lista, key = lista.get,reverse=True):\n",
        "    print(i, lista[i])\n",
        "print(\"a=1 b=2 c=3 d=4 e=5 f=6 g=7 h=8 i=9 j=10 k=11 l=12 m=13 n=14 o=15 p=16 q=17 r=18 s=19 t=20 u=21 v=22 w=23 x=24 y=25 z=26\")\n",
        "print(\"a letra -1 é a chave \")"
      ],
      "metadata": {
        "colab": {
          "base_uri": "https://localhost:8080/"
        },
        "id": "ng56kOcsTnaK",
        "outputId": "c70ddfac-15f9-4163-bbdb-b0018ee33904"
      },
      "execution_count": null,
      "outputs": [
        {
          "output_type": "stream",
          "name": "stdout",
          "text": [
            "k 12\n",
            "p 4\n",
            "w 2\n",
            "b 1\n",
            "a=1 b=2 c=3 d=4 e=5 f=6 g=7 h=8 i=9 j=10 k=11 l=12 m=13 n=14 o=15 p=16 q=17 r=18 s=19 t=20 u=21 v=22 w=23 x=24 y=25 z=26\n",
            "a letra -1 é a chave \n"
          ]
        }
      ]
    },
    {
      "cell_type": "code",
      "source": [
        "def recebeChave():\n",
        "    chave = 1\n",
        "    entrada_valida = False\n",
        "    while not entrada_valida:\n",
        "        chave = int(input(\"Digite o valor da chave: \"))\n",
        "        if 1 <= chave <= 26:\n",
        "            entrada_valida = True\n",
        "        else:\n",
        "            print(\"ERRO: Entrada inválida para a chave (1 a 26)\")\n",
        "    return chave\n",
        "\n",
        "def decripta(mensagem, chave):\n",
        "    cripto = ''\n",
        "    for i in mensagem:\n",
        "        if 'A' <= i <= 'Z':\n",
        "            if ord(i) - chave < ord('A'):\n",
        "                cripto += chr(ord('Z') - (chave - (ord(i) + 1 - ord('A'))))\n",
        "            else:\n",
        "                cripto += chr(ord(i) - chave)\n",
        "        elif 'a' <= i <= 'z':\n",
        "            if ord(i) - chave < ord('a'):\n",
        "                cripto += chr(ord('z') - (chave - (ord(i) + 1 - ord('a'))))\n",
        "            else:\n",
        "                cripto += chr(ord(i) - chave)\n",
        "        else:\n",
        "            cripto += i\n",
        "    return cripto\n",
        "x=recebeChave()\n",
        "with open('criptografado.txt','r') as arq:\n",
        "  tx = arq.read()\n",
        "texto1=tx\n",
        "\n",
        "with open('textocescriptografado.txt','w') as arq:\n",
        "  arq.write(''.join(decripta(texto1,x)))"
      ],
      "metadata": {
        "colab": {
          "base_uri": "https://localhost:8080/"
        },
        "id": "AHJQ4vCj2mza",
        "outputId": "29b25832-52ae-4f71-8eb0-9270c0f359ff"
      },
      "execution_count": null,
      "outputs": [
        {
          "name": "stdout",
          "output_type": "stream",
          "text": [
            "Digite o valor da chave: 10\n"
          ]
        }
      ]
    }
  ]
}

#Feito_Por_Jair

#'   _/﹋\_    ')
#'   (҂`_´)    ')
#'   <,︻╦╤─   ')
#'  _/﹋\_     ')
#' SR.JAIR.V   
