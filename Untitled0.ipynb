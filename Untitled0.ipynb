{
  "nbformat": 4,
  "nbformat_minor": 0,
  "metadata": {
    "colab": {
      "provenance": [],
      "authorship_tag": "ABX9TyMmCig3Ii92qzkuKQCnO08m",
      "include_colab_link": true
    },
    "kernelspec": {
      "name": "python3",
      "display_name": "Python 3"
    },
    "language_info": {
      "name": "python"
    }
  },
  "cells": [
    {
      "cell_type": "markdown",
      "metadata": {
        "id": "view-in-github",
        "colab_type": "text"
      },
      "source": [
        "<a href=\"https://colab.research.google.com/github/JairAssisDev/meus_codigos_de_python/blob/main/Untitled0.ipynb\" target=\"_parent\"><img src=\"https://colab.research.google.com/assets/colab-badge.svg\" alt=\"Open In Colab\"/></a>"
      ]
    },
    {
      "cell_type": "code",
      "execution_count": null,
      "metadata": {
        "id": "v8rFe-h8mcWf"
      },
      "outputs": [],
      "source": [
        "class Pilha:\n",
        "\n",
        "    # inicializar\n",
        "    def __init__(self):\n",
        "        self.__lista = []\n",
        "\n",
        "    # tornar a pilha iterável\n",
        "    def __getitem__(self,posicao):\n",
        "      return self.__lista[posicao]\n",
        "\n",
        "    # comprimento\n",
        "    def __len__(self):\n",
        "      return len(self.__lista)\n",
        "    \n",
        "    # exibir\n",
        "    def __repr__(self):\n",
        "        return f'Pilha: {self.__lista}' + ' <- topo'\n",
        "\n",
        "    # topo\n",
        "    def topo(self):\n",
        "      return self.__lista[len(self) - 1]\n",
        "\n",
        "    # inserir\n",
        "    def inserir(self, item):\n",
        "        self.__lista.append(item) # adicionar um item ao final da lista\n",
        "    \n",
        "    # remover\n",
        "    def remover(self):\n",
        "        return self.__lista.pop() # remover o último item da lista"
      ]
    },
    {
      "cell_type": "code",
      "source": [
        "def iverse (texto):\n",
        "      pilha=Pilha()\n",
        "      for car in texto:\n",
        "          pilha.inserir(car)\n",
        "      invertido=[]\n",
        "\n",
        "      while len(pilha)>0:\n",
        "          invertido.append(pilha.remover())\n",
        "      return invertido"
      ],
      "metadata": {
        "id": "yg8Kyrmdp1to"
      },
      "execution_count": null,
      "outputs": []
    },
    {
      "cell_type": "code",
      "source": [
        "nome=input(\"dsad\")\n",
        "#nome=\"jair\"\n",
        "nomev=iverse(nome)\n",
        "print(nomev)"
      ],
      "metadata": {
        "colab": {
          "base_uri": "https://localhost:8080/"
        },
        "id": "u7MTe2Bzp21x",
        "outputId": "33715c28-21fd-46e0-c83e-782f023251d4"
      },
      "execution_count": null,
      "outputs": [
        {
          "output_type": "stream",
          "name": "stdout",
          "text": [
            "dsadjairvictordelimaassis\n",
            "['s', 'i', 's', 's', 'a', 'a', 'm', 'i', 'l', 'e', 'd', 'r', 'o', 't', 'c', 'i', 'v', 'r', 'i', 'a', 'j']\n"
          ]
        }
      ]
    }
  ]
}