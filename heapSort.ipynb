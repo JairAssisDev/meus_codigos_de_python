{
  "nbformat": 4,
  "nbformat_minor": 0,
  "metadata": {
    "colab": {
      "provenance": [],
      "authorship_tag": "ABX9TyP1405X9stcwLFeUEAk9Qm+",
      "include_colab_link": true
    },
    "kernelspec": {
      "name": "python3",
      "display_name": "Python 3"
    },
    "language_info": {
      "name": "python"
    }
  },
  "cells": [
    {
      "cell_type": "markdown",
      "metadata": {
        "id": "view-in-github",
        "colab_type": "text"
      },
      "source": [
        "<a href=\"https://colab.research.google.com/github/JairAssisDev/meus_codigos_de_python/blob/main/heapSort.ipynb\" target=\"_parent\"><img src=\"https://colab.research.google.com/assets/colab-badge.svg\" alt=\"Open In Colab\"/></a>"
      ]
    },
    {
      "cell_type": "code",
      "execution_count": null,
      "metadata": {
        "id": "BCDV7rRsYywa"
      },
      "outputs": [],
      "source": [
        "Lista = [15, 50, 80, 10, 30, 70, 90]\n",
        "\n"
      ]
    },
    {
      "cell_type": "code",
      "source": [
        "# Heap Sort in python\n",
        "\n",
        "\n",
        "def heapify(arr, n, i):\n",
        "  # Encontre o maior entre root e filhos\n",
        "  largest = i\n",
        "  l = 2 * i + 1\n",
        "  r = 2 * i + 2\n",
        "  \n",
        "  if l < n and arr[i] < arr[l]:\n",
        "    largest = l\n",
        "  \n",
        "  if r < n and arr[largest] < arr[r]:\n",
        "    largest = r\n",
        "  \n",
        "  # If root não é maior, troque com o maior e continue acumulando\n",
        "  if largest != i:\n",
        "    arr[i], arr[largest] = arr[largest], arr[i]\n",
        "    heapify(arr, n, largest)\n",
        "  \n",
        "  \n",
        "def heapSort(arr):\n",
        "  n = len(arr)\n",
        "  \n",
        "      # Build max heap\n",
        "  for i in range(n//2, -1, -1):\n",
        "    heapify(arr, n, i)\n",
        "  \n",
        "  for i in range(n-1, 0, -1):\n",
        "    # Swap\n",
        "    arr[i], arr[0] = arr[0], arr[i]\n",
        "  \n",
        "    # Heapify root element\n",
        "    heapify(arr, i, 0)\n",
        "  \n",
        "  \n",
        "arr = [15, 50, 80, 10, 30, 70, 90]\n",
        "heapSort(arr)\n",
        "n = len(arr)\n",
        "print(\"Sorted array is\")\n",
        "for i in range(n):\n",
        "  print(\"%d \" % arr[i], end='')\n",
        "  "
      ],
      "metadata": {
        "colab": {
          "base_uri": "https://localhost:8080/"
        },
        "id": "Hb2Elst5ZgHq",
        "outputId": "af0bc8f0-4f87-4ea9-c8b7-e9d0a8ee9315"
      },
      "execution_count": 3,
      "outputs": [
        {
          "output_type": "stream",
          "name": "stdout",
          "text": [
            "Sorted array is\n",
            "10 15 30 50 70 80 90 "
          ]
        }
      ]
    }
  ]
}