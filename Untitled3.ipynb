{
  "nbformat": 4,
  "nbformat_minor": 0,
  "metadata": {
    "colab": {
      "provenance": [],
      "authorship_tag": "ABX9TyMjP8ZZetoSBTaVO61fMtIJ",
      "include_colab_link": true
    },
    "kernelspec": {
      "name": "python3",
      "display_name": "Python 3"
    },
    "language_info": {
      "name": "python"
    }
  },
  "cells": [
    {
      "cell_type": "markdown",
      "metadata": {
        "id": "view-in-github",
        "colab_type": "text"
      },
      "source": [
        "<a href=\"https://colab.research.google.com/github/JairAssisDev/meus_codigos_de_python/blob/main/Untitled3.ipynb\" target=\"_parent\"><img src=\"https://colab.research.google.com/assets/colab-badge.svg\" alt=\"Open In Colab\"/></a>"
      ]
    },
    {
      "cell_type": "code",
      "execution_count": null,
      "metadata": {
        "colab": {
          "base_uri": "https://localhost:8080/"
        },
        "id": "NZhabTJPSwcY",
        "outputId": "bfea3a45-9454-4fe9-ca41-a8530f6ff832"
      },
      "outputs": [
        {
          "output_type": "stream",
          "name": "stdout",
          "text": [
            "insira o angulu 145\n",
            "insira o angulu 245\n",
            "insira o angulu 345\n",
            "135\n"
          ]
        }
      ],
      "source": [
        "x=int(input(\"insira o angulu 1 \"))\n",
        "x2=int(input(\"insira o angulu 2 \"))\n",
        "x3=int(input(\"insira o angulu 3 \"))\n",
        "soma=x+x2+x3\n",
        "print(soma)\n"
      ]
    },
    {
      "cell_type": "code",
      "source": [
        "x=int(input(\"insira o um valor \"))\n",
        "if x>=10 :\n",
        "  print(\"é maior que 10 \")\n",
        "else:\n",
        "  print(\"nao é maior que 10\")"
      ],
      "metadata": {
        "colab": {
          "base_uri": "https://localhost:8080/"
        },
        "id": "gG9QtMk2Txom",
        "outputId": "5bf8dd56-abc6-4d01-c888-03ca9a9c1873"
      },
      "execution_count": null,
      "outputs": [
        {
          "output_type": "stream",
          "name": "stdout",
          "text": [
            "insira o um valor 8\n",
            "nao é maior que 10\n"
          ]
        }
      ]
    },
    {
      "cell_type": "code",
      "source": [
        "x=int(input(\"salario mensal do funcionario \"))\n",
        "b=int(input(\"percentual do reajuste \"))\n",
        "slf=b/100\n",
        "slff=x+(x*slf)\n",
        "print('o valor do novo salario é ',slff)"
      ],
      "metadata": {
        "colab": {
          "base_uri": "https://localhost:8080/"
        },
        "id": "TF27z4SjUkz0",
        "outputId": "b7b16dce-179e-48b8-e3a1-9cc7a2c2a770"
      },
      "execution_count": null,
      "outputs": [
        {
          "output_type": "stream",
          "name": "stdout",
          "text": [
            "salario mensal do funcionario 10000\n",
            "percentual do reajuste 10\n",
            "o valor do novo salario é  11000.0\n"
          ]
        }
      ]
    },
    {
      "cell_type": "code",
      "source": [
        "x=str(input(\"nome do municipio\"))\n",
        "ql=int(input(\"numero de eleitor\"))\n",
        "cmv=int(input('numero de votos '))\n",
        "pr1=(cmv/100)\n",
        "prdv=ql*pr1\n",
        "pv=0.50*ql\n",
        "print(\"municipl\",x)\n",
        "print('ela posui' ,ql)\n",
        "print(\"o candidato mais voltado teve\",cmv,\"% dos votos\")\n",
        "if ql>=200000 and prdv<=pv:\n",
        "  print(\"avera segundo turno\")\n",
        "else:\n",
        "  print(\"nao averar segundo turno\")\n",
        "print(pv)"
      ],
      "metadata": {
        "colab": {
          "base_uri": "https://localhost:8080/"
        },
        "id": "HgYUn3A2XVWz",
        "outputId": "06018436-85a0-4fd4-a4e5-4d91e3042ad4"
      },
      "execution_count": null,
      "outputs": [
        {
          "output_type": "stream",
          "name": "stdout",
          "text": [
            "nome do municipiodasd\n",
            "numero de eleitor10000000\n",
            "numero de votos 200000\n",
            "municipl dasd\n",
            "ela posui 10000000\n",
            "o candidato mais voltado teve 200000 % dos votos\n",
            "nao averar segundo turno\n",
            "5000000.0\n"
          ]
        }
      ]
    },
    {
      "cell_type": "code",
      "source": [
        "x=int(input(\"insira a quantidade de peso do peixe\"))\n",
        "multa=x-40\n",
        "es=multa\n",
        "if multa>0:\n",
        "  multa=multa*4\n",
        "  print(multa)\n",
        "print(\"excesso de peixe foi de \",es,\"kl\")\n"
      ],
      "metadata": {
        "colab": {
          "base_uri": "https://localhost:8080/"
        },
        "id": "P-oPBNubasWV",
        "outputId": "f6bbf270-4ec9-4ac2-921c-1737f803e543"
      },
      "execution_count": null,
      "outputs": [
        {
          "output_type": "stream",
          "name": "stdout",
          "text": [
            "insira a quantidade de peso do peixe60\n",
            "80\n",
            "excesso de peixe foi de  20 kl\n"
          ]
        }
      ]
    },
    {
      "cell_type": "code",
      "source": [
        "vs=int(input(\"digite seu salaro\"))\n",
        "hs=int(input(\"numeros de horas mensais\"))\n",
        "ac=0.50*vs\n",
        "if hs>160:\n",
        "  print(\"seu salario com acrecimo foi\",vs+ac)\n",
        "else:\n",
        "  print(\"seu salario foi de \",vs)"
      ],
      "metadata": {
        "colab": {
          "base_uri": "https://localhost:8080/"
        },
        "id": "kRtPwXexfwUj",
        "outputId": "305859ac-820c-457c-bc70-55b854ac780a"
      },
      "execution_count": null,
      "outputs": [
        {
          "output_type": "stream",
          "name": "stdout",
          "text": [
            "digite seu salaro2000\n",
            "numeros de horas mensais220\n",
            "seu salario com acrecimo foi 3000.0\n"
          ]
        }
      ]
    },
    {
      "cell_type": "code",
      "source": [
        "x=4\n",
        "f=0\n",
        "alunosacm=0\n",
        "mediat=0\n",
        "list=[]\n",
        "while x>0:\n",
        "  na=int(input(\"insira a nota \"))\n",
        "  x-=1\n",
        "  mediat=mediat+na\n",
        "  faf=mediat/4\n",
        "  f=f+na\n",
        "\n",
        "if na>=mediat:\n",
        "         alunosacm=alunosacm+1\n",
        "\n",
        "print(\"media da turma foi \",mediat/4)\n",
        "print(\"alunos que tao acima da media da sala \",alunosacm)\n",
        "\n"
      ],
      "metadata": {
        "colab": {
          "base_uri": "https://localhost:8080/"
        },
        "id": "OZ3lfm2Xicy1",
        "outputId": "889d5146-328f-49d8-8790-cb767bdd170e"
      },
      "execution_count": null,
      "outputs": [
        {
          "output_type": "stream",
          "name": "stdout",
          "text": [
            "insira a nota 6\n",
            "insira a nota 6\n",
            "insira a nota 7\n",
            "insira a nota 7\n",
            "media da turma foi  6.5\n",
            "alunos que tao acima da media da sala  0\n"
          ]
        }
      ]
    }
  ]
}