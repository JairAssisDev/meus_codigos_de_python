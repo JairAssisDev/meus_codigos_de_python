{
  "nbformat": 4,
  "nbformat_minor": 0,
  "metadata": {
    "colab": {
      "provenance": [],
      "authorship_tag": "ABX9TyPU7UmNt4kq+P8MQR/ZTdE3",
      "include_colab_link": true
    },
    "kernelspec": {
      "name": "python3",
      "display_name": "Python 3"
    },
    "language_info": {
      "name": "python"
    }
  },
  "cells": [
    {
      "cell_type": "markdown",
      "metadata": {
        "id": "view-in-github",
        "colab_type": "text"
      },
      "source": [
        "<a href=\"https://colab.research.google.com/github/JairAssisDev/meus_codigos_de_python/blob/main/Untitled10.ipynb\" target=\"_parent\"><img src=\"https://colab.research.google.com/assets/colab-badge.svg\" alt=\"Open In Colab\"/></a>"
      ]
    },
    {
      "cell_type": "code",
      "execution_count": null,
      "metadata": {
        "colab": {
          "base_uri": "https://localhost:8080/"
        },
        "id": "hpHu4sPut4si",
        "outputId": "b4837475-afa8-4a12-b8e1-613e395a9959"
      },
      "outputs": [
        {
          "output_type": "stream",
          "name": "stdout",
          "text": [
            "digite um valor3\n",
            "digite um valor4\n",
            "somo 7\n",
            "subitração -1\n",
            "multiplicação 12\n",
            "diviso 1.5\n"
          ]
        }
      ],
      "source": [
        "a=int(input(\"digite um valor \"))\n",
        "b=int(input(\"digite um valor \"))\n",
        "print(\"somo\",a+b)\n",
        "print(\"subitração\",a-b)\n",
        "print(\"multiplicação\",a*b)\n",
        "print(\"diviso\",a/2)"
      ]
    },
    {
      "cell_type": "code",
      "source": [
        "j=int(input(\"coloque seu salario \"))\n",
        "if j <= 3000 :\n",
        "  r=j*0.5\n",
        "  print(\"resultado \",j+r)\n",
        "elif j > 3000 and j < 1000:\n",
        "  r=j*0.2\n",
        "  print(\"resultado \",j+r)\n",
        "else:\n",
        "  r=j*0.15\n",
        "  print(\"resultado \",j+r)\n"
      ],
      "metadata": {
        "colab": {
          "base_uri": "https://localhost:8080/"
        },
        "id": "Le34Pljous0M",
        "outputId": "f5491bbc-7d14-4f6a-de4e-846e74a7455f"
      },
      "execution_count": null,
      "outputs": [
        {
          "output_type": "stream",
          "name": "stdout",
          "text": [
            "coloque seu salario 200000000000\n",
            "resultado  230000000000.0\n"
          ]
        }
      ]
    },
    {
      "cell_type": "code",
      "source": [],
      "metadata": {
        "id": "A2_CM9YqwzDx"
      },
      "execution_count": null,
      "outputs": []
    },
    {
      "cell_type": "code",
      "source": [],
      "metadata": {
        "id": "C1f1f1nlwy94"
      },
      "execution_count": null,
      "outputs": []
    }
  ]
}