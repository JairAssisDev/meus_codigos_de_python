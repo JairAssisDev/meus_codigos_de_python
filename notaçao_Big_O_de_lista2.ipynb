{
  "nbformat": 4,
  "nbformat_minor": 0,
  "metadata": {
    "colab": {
      "provenance": [],
      "toc_visible": true,
      "include_colab_link": true
    },
    "kernelspec": {
      "name": "python3",
      "display_name": "Python 3"
    },
    "language_info": {
      "name": "python"
    }
  },
  "cells": [
    {
      "cell_type": "markdown",
      "metadata": {
        "id": "view-in-github",
        "colab_type": "text"
      },
      "source": [
        "<a href=\"https://colab.research.google.com/github/JairAssisDev/meus_codigos_de_python/blob/main/nota%C3%A7ao_Big_O_de_lista2.ipynb\" target=\"_parent\"><img src=\"https://colab.research.google.com/assets/colab-badge.svg\" alt=\"Open In Colab\"/></a>"
      ]
    },
    {
      "cell_type": "markdown",
      "source": [
        "pior caso O(n)"
      ],
      "metadata": {
        "id": "IG-Ucl9o4Qcq"
      }
    },
    {
      "cell_type": "code",
      "execution_count": 2,
      "metadata": {
        "colab": {
          "base_uri": "https://localhost:8080/"
        },
        "id": "QrDAO13T0bxC",
        "outputId": "bc14bbfb-7769-425a-96fb-65bb413835f5"
      },
      "outputs": [
        {
          "output_type": "stream",
          "name": "stdout",
          "text": [
            "Digite o 1º número inteiro: 3\n",
            "Digite o 2º número inteiro: 3\n",
            "Digite o 3º número inteiro: 3\n",
            "Digite o 4º número inteiro: 3\n",
            "Digite o 5º número inteiro: 3\n",
            "A soma dos números digitados é: 15\n"
          ]
        }
      ],
      "source": [
        "numeros = []\n",
        "\n",
        "for i in range(5):\n",
        "    numero = int(input(f\"Digite o {i+1}º número inteiro: \"))\n",
        "    numeros.append(numero)\n",
        "\n",
        "soma = 0\n",
        "for numero in numeros:\n",
        "    soma += numero\n",
        "\n",
        "print(f\"A soma dos números digitados é: {soma}\")"
      ]
    },
    {
      "cell_type": "markdown",
      "source": [
        "melhorias \n"
      ],
      "metadata": {
        "id": "qX_syVUw4WSn"
      }
    },
    {
      "cell_type": "code",
      "source": [
        "soma = 0\n",
        "for i in range(5):\n",
        "    numero = int(input(f\"Digite o {i+1}º número inteiro: \"))\n",
        "    soma += numero\n",
        "\n",
        "print(f\"A soma dos números digitados é: {soma}\")"
      ],
      "metadata": {
        "colab": {
          "base_uri": "https://localhost:8080/"
        },
        "id": "X_nPqyF74ZFv",
        "outputId": "bb301060-ea27-455c-b76b-4b62d544a5fa"
      },
      "execution_count": 1,
      "outputs": [
        {
          "output_type": "stream",
          "name": "stdout",
          "text": [
            "Digite o 1º número inteiro: 3\n",
            "Digite o 2º número inteiro: 3\n",
            "Digite o 3º número inteiro: 3\n",
            "Digite o 4º número inteiro: 3\n",
            "Digite o 5º número inteiro: 3\n",
            "A soma dos números digitados é: 15\n"
          ]
        }
      ]
    },
    {
      "cell_type": "markdown",
      "source": [
        "pior caso O(1)\n",
        "tbm no segundo for que esta tiretamente ou primeiro \n"
      ],
      "metadata": {
        "id": "qY73x4w65I_B"
      }
    },
    {
      "cell_type": "code",
      "source": [
        "alunos = {}\n",
        "for i in range(3):\n",
        "    nome = input(f\"Digite o nome do {i+1}º aluno: \")\n",
        "    nota = float(input(f\"Digite a nota do {i+1}º aluno: \"))\n",
        "    alunos[nome] = nota\n",
        "\n",
        "soma = 0\n",
        "for nota in alunos.values():\n",
        "    soma += nota\n",
        "\n",
        "media = soma / len(alunos)\n",
        "print(f\"A média das notas dos alunos é: {media:.2f}\")\n"
      ],
      "metadata": {
        "colab": {
          "base_uri": "https://localhost:8080/"
        },
        "id": "4zd_-py_1Gdn",
        "outputId": "b3073297-e441-413d-b039-f39d4d50fb80"
      },
      "execution_count": null,
      "outputs": [
        {
          "output_type": "stream",
          "name": "stdout",
          "text": [
            "Digite o nome do 1º aluno: jair\n",
            "Digite a nota do 1º aluno: 10\n",
            "Digite o nome do 2º aluno: jajaj\n",
            "Digite a nota do 2º aluno: 1\n",
            "Digite o nome do 3º aluno: asda\n",
            "Digite a nota do 3º aluno: 9\n",
            "A média das notas dos alunos é: 6.67\n"
          ]
        }
      ]
    },
    {
      "cell_type": "markdown",
      "source": [
        "tbm é O(1)"
      ],
      "metadata": {
        "id": "BnU4B0Wf6LEZ"
      }
    },
    {
      "cell_type": "code",
      "source": [
        "def ler_temperatura():\n",
        "    temperatura = float(input(\"Digite a temperatura em graus Celsius: \"))\n",
        "    return temperatura\n",
        "\n",
        "def converter_para_fahrenheit(celsius):\n",
        "    fahrenheit = (9 * celsius + 160) / 5\n",
        "    return fahrenheit\n",
        "\n",
        "def mostrar_resultado(fahrenheit):\n",
        "    print(f\"A temperatura em graus Fahrenheit é: {fahrenheit:.2f}\")\n",
        "\n",
        "celsius = ler_temperatura()\n",
        "fahrenheit = converter_para_fahrenheit(celsius)\n",
        "mostrar_resultado(fahrenheit)"
      ],
      "metadata": {
        "colab": {
          "base_uri": "https://localhost:8080/"
        },
        "id": "-RcyET2m1O2G",
        "outputId": "2585a097-7915-4b6e-9d20-d260da406505"
      },
      "execution_count": null,
      "outputs": [
        {
          "output_type": "stream",
          "name": "stdout",
          "text": [
            "Digite a temperatura em graus Celsius: 600\n",
            "A temperatura em graus Fahrenheit é: 1112.00\n"
          ]
        }
      ]
    },
    {
      "cell_type": "markdown",
      "source": [
        "tbm de conplexcidade O(1)"
      ],
      "metadata": {
        "id": "UCevQ5Bh6mTQ"
      }
    },
    {
      "cell_type": "code",
      "source": [
        "def ler_valores():\n",
        "    tempo = float(input(\"Digite o tempo gasto na viagem (em horas): \"))\n",
        "    velocidade = float(input(\"Digite a velocidade média durante a viagem (em Km/h): \"))\n",
        "    return tempo, velocidade\n",
        "\n",
        "def calcular_distancia(tempo, velocidade):\n",
        "    distancia = tempo * velocidade\n",
        "    return distancia\n",
        "\n",
        "def calcular_litros(distancia):\n",
        "    litros_usados = distancia / 12\n",
        "    return litros_usados\n",
        "\n",
        "\n",
        "def apresentar_resultado(tempo, velocidade, distancia, litros):\n",
        "    print(f\"Tempo gasto na viagem: {tempo:.2f} horas\")\n",
        "    print(f\"Velocidade média durante a viagem: {velocidade:.2f} Km/h\")\n",
        "    print(f\"Distância percorrida: {distancia:.2f} Km\")\n",
        "    print(f\"Quantidade de litros de combustível gasto: {litros:.2f} litros\")\n",
        "\n",
        "tempo, velocidade = ler_valores()\n",
        "distancia = calcular_distancia(tempo, velocidade)\n",
        "litros = calcular_litros(distancia)\n",
        "apresentar_resultado(tempo, velocidade, distancia, litros)\n"
      ],
      "metadata": {
        "colab": {
          "base_uri": "https://localhost:8080/"
        },
        "id": "hwj0ixjh1mKP",
        "outputId": "221cb427-5a7d-4d4c-a2e2-4845df01ce5b"
      },
      "execution_count": null,
      "outputs": [
        {
          "output_type": "stream",
          "name": "stdout",
          "text": [
            "Digite o tempo gasto na viagem (em horas): 5\n",
            "Digite a velocidade média durante a viagem (em Km/h): 1000\n",
            "Tempo gasto na viagem: 5.00 horas\n",
            "Velocidade média durante a viagem: 1000.00 Km/h\n",
            "Distância percorrida: 5000.00 Km\n",
            "Quantidade de litros de combustível gasto: 416.67 litros\n"
          ]
        }
      ]
    },
    {
      "cell_type": "markdown",
      "source": [
        "mesmo o codigo nuber 1 nao ter mudado o pior caso ele perdeu um for que tinha assim deixando mais rapido \n"
      ],
      "metadata": {
        "id": "V6iyslvv65NR"
      }
    }
  ]
}