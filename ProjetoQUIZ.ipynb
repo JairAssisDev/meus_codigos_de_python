{
  "nbformat": 4,
  "nbformat_minor": 0,
  "metadata": {
    "colab": {
      "provenance": [],
      "include_colab_link": true
    },
    "kernelspec": {
      "name": "python3",
      "display_name": "Python 3"
    },
    "language_info": {
      "name": "python"
    }
  },
  "cells": [
    {
      "cell_type": "markdown",
      "metadata": {
        "id": "view-in-github",
        "colab_type": "text"
      },
      "source": [
        "<a href=\"https://colab.research.google.com/github/JairAssisDev/meus_codigos_de_python/blob/main/ProjetoQUIZ.ipynb\" target=\"_parent\"><img src=\"https://colab.research.google.com/assets/colab-badge.svg\" alt=\"Open In Colab\"/></a>"
      ]
    },
    {
      "cell_type": "markdown",
      "source": [
        "# **Algoritmo  de QUIZ em Python**\n",
        "\n",
        "\n",
        "> Programing by *JairV_* and *Ptrck_* corporation.\n",
        "\n"
      ],
      "metadata": {
        "id": "4gj_kN9L9Mbg"
      }
    },
    {
      "cell_type": "code",
      "source": [
        "#Bloco de Modularização\n",
        "def respostaUsuario():\n",
        "  alternativa='a' or 'b' or 'c' or 'd' or 'e'\n",
        "  entrada_valida=False\n",
        "  while not entrada_valida:\n",
        "    alternativa=input(\"Digite a alternativa: \").lower()\n",
        "    if alternativa=='a':\n",
        "      avancar=True\n",
        "      entrada_valida=True\n",
        "      return alternativa,avancar\n",
        "    if alternativa=='b':\n",
        "      avancar=True\n",
        "      entrada_valida=True \n",
        "      return alternativa,avancar \n",
        "    elif alternativa=='c':\n",
        "      avancar=True\n",
        "      entrada_valida=True \n",
        "      return alternativa,avancar\n",
        "    elif alternativa=='d':\n",
        "      avancar=True\n",
        "      entrada_valida=True  \n",
        "      return alternativa,avancar\n",
        "    elif alternativa=='e':\n",
        "      avancar=True\n",
        "      entrada_valida=True\n",
        "      return alternativa,avancar\n",
        "    else:\n",
        "      print('ERRO: Alternativa inválida')\n",
        "\n",
        "def comparaListas(list1, list2): \n",
        "  correto=0\n",
        "  for num1, num2 in zip(list1, list2):\n",
        "    if num1==num2:\n",
        "      correto+=1\n",
        "  if correto>=8:\n",
        "    print(f'\\033[1;32mParabéns, seu desempenho foi excelente!\\nVocê acertou {correto}/10\\033[m')\n",
        "\n",
        "  elif correto>6 and correto<8:\n",
        "    print(f'\\033[1;33mParabéns, seu desempenho foi bom!\\nVocê acertou {correto}/10\\033[m')\n",
        "\n",
        "  else:\n",
        "    print(f'\\033[1;31mAtenção, você precisa estudar mais sobre esse tema!\\nVocê acertou {correto}/10\\033[m')\n",
        "\n",
        "def espaçamento(f):\n",
        "  if f>=1:\n",
        "    print('⇀↼'*24)\n",
        "\n",
        "#Bloco de Variáveis do QUIZ\n",
        "gabarito=['c', 'c','e','e','d','a','c','e','e','d']\n",
        "usuario=[]\n",
        "perguntas=['1.O que significa TCP/IP?','2.Defina o que é Protocolo:','3.Uma das funções do modelo TCP/IP é?','4.A que camadas no modelo OSI equivale a camada de aplicação no modelo TCP/IP?','5.Controla como os dados são enviados no meio físico codificando os dígitos binários que representam dados em sinais é a?','6.Sobre a Camada de Internet:','7.A camada de aplicação é responsável por','8.HTTP, DNS, FTP, SMTP e SSH são protocolos da camada de:','9.Quantos protocolos tem a camada de aplicação?','10.Sobre o modelo TCP/IP, é correto afirmar:\\nI. A camada física, também chamada de camada de link, é aquela que lida com as partes físicas de envio e recebimento de dados.\\nII. A camada da internet, também chamada de camada de rede, controla o movimento de pacotes pela rede.\\nIII. A camada de transporte fornece uma conexão de dados confiável entre dois dispositivos.\\nIV. A camada de aplicativo é o grupo de aplicativos que requerem comunicação em rede. O usuário normalmente interage com essa camada, como no e-mail e mensagens.']\n",
        "opcoes=['a) Transmission Center Protocol/Internet Protocol\\nb) Transmission Control Protocol/Internet Program\\nc) Transmission Control Protocol/Internet Protocol\\nd) Transmission Center Protocol/Internet Protocom\\ne) Nenhuma está correta','a) Conjunto de pluggins que permitem a conexão e a transmissão de pacotes.\\nb) É o responsável por administrar as redes.\\nc) Regras que governam a sintaxe, semântica e sincronização da comunicação.\\nd) Pack de parametros que dão autorização para que as máquinas comuniquem.\\ne) Permite que os computadores comuniquem entre si, mas sem regras','a) Atribui um nome a cada computador\\nb) Disponibilizar o endereço MAC na rede\\nc) Estabelecer uma conexão segura\\nd) Permitir conexão via rádio entre os nós\\ne) Fornece um IP a cada computador','a) Camada 1 e 2\\nb) Camada 3 e 4\\nc) Camada 5 e 6\\nd) Camada 1, 2 e 3\\ne) Camada 5, 6 e 7','a) Camada de Aplicação\\nb) Camada de Transporte\\nc) Camada de Internet\\nd) Camada Física\\ne) Nenhuma das alternativas','a) Faz o envio de pacotes por hosts a qualquer rede e garante que esses dados cheguem ao seu destino final\\nb) É a segunda camada de cima para baixo na hierarquização da arquitetura TCP/IP\\nc) Controla como os dados são enviados no meio físico codificando os dígitos binários que representam dados em sinais\\nd) Gerir informação em diferentes computadores\\ne) Também chamada de camada de link','a) ... encaminhar dados\\nb)... gerir informação em diferentes computadores\\nc)... disponibilizar serviços para aplicações\\nd)... atribui um nome a cada computador\\ne) Nenhuma está correta','a) Enlace\\nb) Rede\\nc) Transporte\\nd) Sessão\\ne) Aplicação','a) 3\\nb) 7\\nc) 5\\nd) 6\\ne) 4','a) Apenas I  e II estão corretos\\nb) Apenas III está correto\\nc) Apenas IV está correto\\nd) Todos os itens estão corretos\\ne) Nenhum das alternativas']\n",
        "\n",
        "#Bloco de Funcionamento do QUIZ\n",
        "print('Vamos iniciar nosso Quiz sobre os Protocolos de Redes - TCP/IP\\nDigite \"Sim\" se você está pronto!')\n",
        "start=input(' ⤷ ').lower()\n",
        "contador=0\n",
        "indice=0\n",
        "if start=='sim':\n",
        "  while contador<10:\n",
        "    print(perguntas[indice])\n",
        "    print(opcoes[indice])\n",
        "    pergunta,proseguir=respostaUsuario()\n",
        "    usuario.append(pergunta) \n",
        "    if proseguir==True:\n",
        "      contador+=1\n",
        "      indice+=1\n",
        "    espaçamento(1)\n",
        "  comparaListas(gabarito,usuario) \n",
        "else:\n",
        "  print('Tudo bem, fica para próxima.\\n Enquanto isso, vá se preparando!') \n",
        "print(' SR.JAIR.V        SR.LUCAS.P')\n",
        "print(' _/﹋\\_            _/﹋\\_ ')\n",
        "print(' (҂`_´)            (`_´҂)')\n",
        "print(' <,︻╦╤─ ҉ - -  - ҉─╤╦︻,>  ')\n",
        "print('_/﹋\\_              _/\\_   ')\n",
        "print('limited development team JL.exe ᕦ(ò_óˇ)ᕤ')"
      ],
      "metadata": {
        "id": "cnOIxEXguyOJ",
        "colab": {
          "base_uri": "https://localhost:8080/"
        },
        "outputId": "a9ddefc9-94f2-4215-f174-551a0925731c"
      },
      "execution_count": null,
      "outputs": [
        {
          "output_type": "stream",
          "name": "stdout",
          "text": [
            "Vamos iniciar nosso Quiz sobre os Protocolos de Redes - TCP/IP\n",
            "Digite \"Sim\" se você está pronto!\n",
            " ⤷ f\n",
            "Tudo bem, fica para próxima.\n",
            " Enquanto isso, vá se preparando!\n",
            " SR.JAIR.V        SR.LUCAS.P\n",
            " _/﹋\\_            _/﹋\\_ \n",
            " (҂`_´)            (`_´҂)\n",
            " <,︻╦╤─ ҉ - -  - ҉─╤╦︻,>  \n",
            "_/﹋\\_              _/\\_   \n",
            "limited development team JL.exe ᕦ(ò_óˇ)ᕤ\n"
          ]
        }
      ]
    }
  ]
}