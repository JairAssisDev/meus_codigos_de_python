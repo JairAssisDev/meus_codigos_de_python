{
  "nbformat": 4,
  "nbformat_minor": 0,
  "metadata": {
    "colab": {
      "provenance": [],
      "authorship_tag": "ABX9TyOUU+IiXzJvF6fp3KM/289s",
      "include_colab_link": true
    },
    "kernelspec": {
      "name": "python3",
      "display_name": "Python 3"
    },
    "language_info": {
      "name": "python"
    }
  },
  "cells": [
    {
      "cell_type": "markdown",
      "metadata": {
        "id": "view-in-github",
        "colab_type": "text"
      },
      "source": [
        "<a href=\"https://colab.research.google.com/github/JairAssisDev/meus_codigos_de_python/blob/main/projeto.ipynb\" target=\"_parent\"><img src=\"https://colab.research.google.com/assets/colab-badge.svg\" alt=\"Open In Colab\"/></a>"
      ]
    },
    {
      "cell_type": "code",
      "execution_count": null,
      "metadata": {
        "colab": {
          "base_uri": "https://localhost:8080/"
        },
        "id": "d9iT-4FGAU8r",
        "outputId": "b8444bf9-7f08-4e5a-e889-fd58837d7c68"
      },
      "outputs": [
        {
          "output_type": "stream",
          "name": "stdout",
          "text": [
            "terminal de compra de passagens \n",
            "destinos\n",
            "insira os respectivos valores para cada destino \n",
            "valor da passagem para recife é : R$ 226.3\n",
            "valor da passagem para arcoverde é : R$ 37.0\n",
            "valor da passagem para garanhuns é : R$ 164.22\n",
            "valor da passagem para pesqueira é : R$ 150.14\n",
            "valor da passagem para belo jardim é : R$ 200.0\n",
            "valor da passagem para petrolina é : R$ 320.0\n",
            "Digite o valor da chave: 9\n",
            "ERRO: Entrada inválida para a chave (1 a 6)\n",
            "Digite o valor da chave: 5\n",
            "o valor da passagem para belo jardim é de  200.0\n",
            "digite o valor que você tem pra pagar : 554325432\n",
            "você tem o valor suficiente para pagar a passagem e seu troco vai ser :R$554325232.00\n"
          ]
        }
      ],
      "source": [
        "lista={'recife': 226.30,'arcoverde':37.00,'garanhuns':164.22,'pesqueira':150.14,'belo jardim':200.00,'petrolina':320.00}\n",
        "print('terminal de compra de passagens ')\n",
        "print('destinos')\n",
        "print('insira os respectivos valores para cada destino ')\n",
        "print('valor da passagem para recife é : R$',lista['recife'])\n",
        "print('valor da passagem para arcoverde é : R$',lista['arcoverde'])\n",
        "print('valor da passagem para garanhuns é : R$',lista['garanhuns'])\n",
        "print('valor da passagem para pesqueira é : R$',lista['pesqueira'])\n",
        "print('valor da passagem para belo jardim é : R$',lista['belo jardim'])\n",
        "print('valor da passagem para petrolina é : R$',lista['petrolina'])\n",
        "chave = 0\n",
        "entrada_valida = False\n",
        "while not entrada_valida:\n",
        "  chave = int(input(\"Digite o valor da chave: \"))\n",
        "  if 1 <= chave <= 6:\n",
        "    entrada_valida = True\n",
        "  else:\n",
        "    print(\"ERRO: Entrada inválida para a chave (1 a 6)\")\n",
        "if chave==1:\n",
        "  c=lista.pop('recife')\n",
        "  print('o valor da passagem para Recife é de ',c)\n",
        "  valor=float(input('digite o valor que você tem pra pagar : '))\n",
        "  if valor>=c:\n",
        "    f=valor-c\n",
        "    print('você tem o valor suficiente para pagar a passagem e seu troco vai ser :{}'.format('R${:.2f}'.format(f)))\n",
        "  else:\n",
        "    f=c-valor\n",
        "    print('você não tem o valor suficiente para pagar a sua passagem, esta faltando :{}'.format('R${:.2f}'.format(f)))\n",
        "if chave==2:\n",
        "  c=lista.pop('arcoverde')\n",
        "  print('o valor da passagem para arcoverde é de ',c)\n",
        "  valor=float(input('digite o valor que você tem pra pagar : '))\n",
        "  if valor>=c:\n",
        "    f=valor-c\n",
        "    print('você tem o valor suficiente para pagar a passagem e seu troco vai ser :{}'.format('R${:.2f}'.format(f)))\n",
        "  else:\n",
        "    f=c-valor\n",
        "    print('você não tem o valor suficiente para pagar a sua passagem, esta faltando :{}'.format('R${:.2f}'.format(f)))\n",
        "if chave==3:\n",
        "  c=lista.pop('garanhuns')\n",
        "  print('o valor da passagem para garanhuns é de ',c)\n",
        "  valor=float(input('digite o valor que você tem pra pagar : '))\n",
        "  if valor>=c:\n",
        "    f=valor-c\n",
        "    print('você tem o valor suficiente para pagar a passagem e seu troco vai ser :{}'.format('R${:.2f}'.format(f)))\n",
        "  else:\n",
        "    f=c-valor\n",
        "    print('você não tem o valor suficiente para pagar a sua passagem, esta faltando :{}'.format('R${:.2f}'.format(f)))\n",
        "if chave==4:\n",
        "  c=lista.pop('pesqueira')\n",
        "  print('o valor da passagem para pesqueira é de ',c)\n",
        "  valor=float(input('digite o valor que você tem pra pagar : '))\n",
        "  if valor>=c:\n",
        "    f=valor-c\n",
        "    print('você tem o valor suficiente para pagar a passagem e seu troco vai ser :{}'.format('R${:.2f}'.format(f)))\n",
        "  else:\n",
        "    f=c-valor\n",
        "    print('você não tem o valor suficiente para pagar a sua passagem, esta faltando :{}'.format('R${:.2f}'.format(f)))\n",
        "if chave==5:\n",
        "  c=lista.pop('belo jardim')\n",
        "  print('o valor da passagem para belo jardim é de ',c)\n",
        "  valor=float(input('digite o valor que você tem pra pagar : '))\n",
        "  if valor>=c:\n",
        "    f=valor-c\n",
        "    print('você tem o valor suficiente para pagar a passagem e seu troco vai ser :{}'.format('R${:.2f}'.format(f)))\n",
        "  else:\n",
        "    f=c-valor\n",
        "    print('você não tem o valor suficiente para pagar a sua passagem, esta faltando :{}'.format('R${:.2f}'.format(f)))\n",
        "if chave==6:\n",
        "  c=lista.pop('petrolina')\n",
        "  print('o valor da passagem para Rpetrolina é de ',c)\n",
        "  valor=float(input('digite o valor que você tem pra pagar : '))\n",
        "  if valor>=c:\n",
        "    f=valor-c\n",
        "    print('você tem o valor suficiente para pagar a passagem e seu troco vai ser :{}'.format('R${:.2f}'.format(f)))\n",
        "  else:\n",
        "    f=c-valor\n",
        "    print('você não tem o valor suficiente para pagar a sua passagem, esta faltando :{}'.format('R${:.2f}'.format(f)))\n",
        "\n",
        "    "
      ]
    }
  ]
}