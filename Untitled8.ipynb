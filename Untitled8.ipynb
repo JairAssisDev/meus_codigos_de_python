{
  "nbformat": 4,
  "nbformat_minor": 0,
  "metadata": {
    "colab": {
      "provenance": [],
      "authorship_tag": "ABX9TyNu1cWsROV+eYs5wYp8vwi/",
      "include_colab_link": true
    },
    "kernelspec": {
      "name": "python3",
      "display_name": "Python 3"
    },
    "language_info": {
      "name": "python"
    }
  },
  "cells": [
    {
      "cell_type": "markdown",
      "metadata": {
        "id": "view-in-github",
        "colab_type": "text"
      },
      "source": [
        "<a href=\"https://colab.research.google.com/github/JairAssisDev/meus_codigos_de_python/blob/main/Untitled8.ipynb\" target=\"_parent\"><img src=\"https://colab.research.google.com/assets/colab-badge.svg\" alt=\"Open In Colab\"/></a>"
      ]
    },
    {
      "cell_type": "code",
      "source": [],
      "metadata": {
        "id": "xFOABmguTmX7"
      },
      "execution_count": null,
      "outputs": []
    },
    {
      "cell_type": "code",
      "execution_count": null,
      "metadata": {
        "colab": {
          "base_uri": "https://localhost:8080/"
        },
        "id": "kgunIWH4pyBn",
        "outputId": "5d704175-0967-44be-bd93-4e0ca6e16fbb"
      },
      "outputs": [
        {
          "output_type": "stream",
          "name": "stdout",
          "text": [
            "digite o seu texto :goigds o dsofh dsfn sd osdn sd hn  dsoi nldsfvonsr ljd ngjsdn gljs nds n gsodn jvls pj s\n",
            "S 15\n",
            "D 12\n",
            "N 10\n",
            "O 7\n",
            "G 5\n",
            "J 5\n",
            "L 4\n",
            "F 3\n",
            "I 2\n",
            "H 2\n",
            "V 2\n",
            "R 1\n",
            "P 1\n"
          ]
        }
      ],
      "source": [
        "def palmito():\n",
        "  palavra = str(input(\"digite o seu texto :\")).upper().replace(' ','')\n",
        "  #pse = palavra.replace(' ','')\n",
        "  lista={}\n",
        "  for jair in palavra:\n",
        "    lista.setdefault(jair, 0)\n",
        "    lista[jair]+=1\n",
        "  for i in sorted(lista, key = lista.get,reverse=True):\n",
        "      print(i, lista[i])\n",
        "palmito()"
      ]
    },
    {
      "cell_type": "code",
      "source": [
        "def sed(string_padrao,string_substituicao):\n",
        "  tx= ''\n",
        "  txl= []\n",
        "  with open('texto.txt','r') as arq:\n",
        "    tx = arq.read()\n",
        "  for palavras in tx.split():\n",
        "    if palavras == string_padrao:\n",
        "      txl.append(string_substituicao)\n",
        "    else:\n",
        "      txl.append(palavras)\n",
        "  with open('novotexto.txt','w') as arq:\n",
        "    arq.write(' '.join(txl))\n",
        "sed('jair','pauuuuuuuuuuuuuuuulo')"
      ],
      "metadata": {
        "id": "0MpBeAatzYQX"
      },
      "execution_count": null,
      "outputs": []
    },
    {
      "cell_type": "markdown",
      "source": [],
      "metadata": {
        "id": "eRnPV_Ab36Et"
      }
    },
    {
      "cell_type": "code",
      "source": [
        "def codificar(mensaje, rotaciones):\n",
        "    #Nota: también se puede importar a string y usar ascii_letters y ascii_uppercase\n",
        "    alfabeto = \"abcdefghijklmnopqrstuvwxyz\"\n",
        "    alfabeto_mayusculas = \"ABCDEFGHIJKLMNOPQRSTUVWXYZ\"\n",
        "    longitud_alfabeto = len(alfabeto)\n",
        "    codificado = \"\"\n",
        "    for letra in mensaje:\n",
        "        if not letra.isalpha() or letra.lower() == 'ñ':\n",
        "            codificado += letra\n",
        "            continue\n",
        "        valor_letra = ord(letra)\n",
        "        # Suponemos que es minúscula, así que esto comienza en 97(a) y se usará el alfabeto en minúsculas\n",
        "        alfabeto_a_usar = alfabeto\n",
        "        limite = 97  # Pero si es mayúscula, comienza en 65(A) y se usa en mayúsculas\n",
        "        if letra.isupper():\n",
        "            limite = 65\n",
        "            alfabeto_a_usar = alfabeto_mayusculas\n",
        "\n",
        "        # Rotamos la letra\n",
        "        posicion = (valor_letra - limite + rotaciones) % longitud_alfabeto\n",
        "\n",
        "        # Convertimos el entero resultante a letra y lo concatenamos\n",
        "        codificado += alfabeto_a_usar[posicion]\n",
        "    return codificado\n",
        "with open('texto.txt','r') as arq:\n",
        "  tx = arq.read()\n",
        "texto1=tx\n",
        "\n",
        "with open('novotexto.txt','w') as arq:\n",
        "  arq.write(''.join(codificar(texto1,2)))\n",
        "#codificar(texto1,2)"
      ],
      "metadata": {
        "id": "kDWAO6whjmLl"
      },
      "execution_count": null,
      "outputs": []
    },
    {
      "cell_type": "code",
      "source": [
        "def recebeChave():\n",
        "    chave = 1\n",
        "    entrada_valida = False\n",
        "    while not entrada_valida:\n",
        "        chave = int(input(\"Digite o valor da chave: \"))\n",
        "        if 1 <= chave <= 26:\n",
        "            entrada_valida = True\n",
        "        else:\n",
        "            print(\"ERRO: Entrada inválida para a chave (1 a 26)\")\n",
        "    return chave\n",
        "def encripta( mensagem, chave):\n",
        "    cripto = ''\n",
        "    for i in mensagem:\n",
        "        if 'A' <= i <= 'Z':\n",
        "            if ord(i) + chave > ord('Z'):\n",
        "                cripto += chr((ord('A') + chave - (ord('Z') + 1 - ord(i))))\n",
        "            else:\n",
        "                cripto += chr(ord(i) + chave)\n",
        "        elif 'a' <= i <= 'z':\n",
        "            if ord(i) + chave > ord('z'):\n",
        "                cripto += chr((ord('a') + chave - (ord('z') + 1 - ord(i))))\n",
        "            else:\n",
        "                cripto += chr(ord(i) + chave)\n",
        "        else:\n",
        "            cripto += i\n",
        "    return cripto\n",
        "\n",
        "\n",
        "x=recebeChave()\n",
        "with open('texto.txt','r') as arq:\n",
        "  tx = arq.read()\n",
        "texto1=tx\n",
        "\n",
        "with open('criptografado.txt','w') as arq:\n",
        "  arq.write(''.join(encripta(texto1,x)))"
      ],
      "metadata": {
        "colab": {
          "base_uri": "https://localhost:8080/"
        },
        "id": "uXDy-qKKthg5",
        "outputId": "4ca69dca-455e-48e1-818c-5c94b204d67b"
      },
      "execution_count": null,
      "outputs": [
        {
          "name": "stdout",
          "output_type": "stream",
          "text": [
            "Digite o valor da chave: 3\n"
          ]
        }
      ]
    },
    {
      "cell_type": "code",
      "source": [
        "def recebeChave():\n",
        "    chave = 1\n",
        "    entrada_valida = False\n",
        "    while not entrada_valida:\n",
        "        chave = int(input(\"Digite o valor da chave: \"))\n",
        "        if 1 <= chave <= 26:\n",
        "            entrada_valida = True\n",
        "        else:\n",
        "            print(\"ERRO: Entrada inválida para a chave (1 a 26)\")\n",
        "    return chave\n",
        "\n",
        "def decripta(mensagem, chave):\n",
        "    cripto = ''\n",
        "    for i in mensagem:\n",
        "        if 'A' <= i <= 'Z':\n",
        "            if ord(i) - chave < ord('A'):\n",
        "                cripto += chr(ord('Z') - (chave - (ord(i) + 1 - ord('A'))))\n",
        "            else:\n",
        "                cripto += chr(ord(i) - chave)\n",
        "        elif 'a' <= i <= 'z':\n",
        "            if ord(i) - chave < ord('a'):\n",
        "                cripto += chr(ord('z') - (chave - (ord(i) + 1 - ord('a'))))\n",
        "            else:\n",
        "                cripto += chr(ord(i) - chave)\n",
        "        else:\n",
        "            cripto += i\n",
        "    return cripto\n",
        "x=recebeChave()\n",
        "with open('criptografado.txt','r') as arq:\n",
        "  tx = arq.read()\n",
        "texto1=tx\n",
        "\n",
        "with open('textocescriptografado.txt','w') as arq:\n",
        "  arq.write(''.join(decripta(texto1,x)))"
      ],
      "metadata": {
        "colab": {
          "base_uri": "https://localhost:8080/"
        },
        "id": "ARiVUxM_vu0C",
        "outputId": "4dd8c5a7-5f95-46e9-b794-50489e796413"
      },
      "execution_count": null,
      "outputs": [
        {
          "name": "stdout",
          "output_type": "stream",
          "text": [
            "Digite o valor da chave: 3\n"
          ]
        }
      ]
    },
    {
      "cell_type": "code",
      "source": [
        "lista=[[2,4,2,1,5],[-1,3,8],[3],[8,0,6]]\n",
        "listap=[]\n",
        "fs=''\n",
        "tr=''\n",
        "def xpar (lista):\n",
        "  global listap\n",
        "  if lista == []:\n",
        "    return 0  \n",
        "  else:\n",
        "    listap.append(lista[0])  \n",
        "    return xpar (lista[1::])\n",
        "    \n",
        "def g1 (j):\n",
        "  global listap ,fs ,tr\n",
        "  if j==[]:\n",
        "    for x in listap:\n",
        "      if x<0:\n",
        "        print(False)\n",
        "      elif x>=0:\n",
        "        print(True)\n",
        "    return 0\n",
        "  else: \n",
        "    return xpar(j[0])+g1(j[1::]) \n",
        "\n",
        "g1(lista)"
      ],
      "metadata": {
        "id": "aEY3nbDfdmt6"
      },
      "execution_count": null,
      "outputs": []
    },
    {
      "cell_type": "code",
      "source": [
        "lista=[[2,4,2,1,5],[1,3,8],[],[8,0,6]]\n",
        "\n",
        "def xpar (lista):\n",
        "  if lista ==[]:\n",
        "    return False\n",
        "  else:\n",
        "    if lista[0]>=0:\n",
        "      return True or xpar (lista[1:])\n",
        "    else:\n",
        "      return False or xpar (lista[1:])\n",
        "    \n",
        "def g2 (j):\n",
        "  if j==[]:   \n",
        "    return True\n",
        "  else: \n",
        "    return xpar(j[0]) and g1(j[1::]) \n",
        "\n",
        "g2(lista)\n"
      ],
      "metadata": {
        "colab": {
          "base_uri": "https://localhost:8080/",
          "height": 322
        },
        "id": "fTkXSxyulayX",
        "outputId": "e1e21302-df70-47b9-fe17-5684e407b166"
      },
      "execution_count": null,
      "outputs": [
        {
          "output_type": "error",
          "ename": "NameError",
          "evalue": "ignored",
          "traceback": [
            "\u001b[0;31m---------------------------------------------------------------------------\u001b[0m",
            "\u001b[0;31mNameError\u001b[0m                                 Traceback (most recent call last)",
            "\u001b[0;32m<ipython-input-3-6c5facb64bf6>\u001b[0m in \u001b[0;36m<module>\u001b[0;34m\u001b[0m\n\u001b[1;32m     16\u001b[0m     \u001b[0;32mreturn\u001b[0m \u001b[0mxpar\u001b[0m\u001b[0;34m(\u001b[0m\u001b[0mj\u001b[0m\u001b[0;34m[\u001b[0m\u001b[0;36m0\u001b[0m\u001b[0;34m]\u001b[0m\u001b[0;34m)\u001b[0m \u001b[0;32mand\u001b[0m \u001b[0mg1\u001b[0m\u001b[0;34m(\u001b[0m\u001b[0mj\u001b[0m\u001b[0;34m[\u001b[0m\u001b[0;36m1\u001b[0m\u001b[0;34m:\u001b[0m\u001b[0;34m:\u001b[0m\u001b[0;34m]\u001b[0m\u001b[0;34m)\u001b[0m\u001b[0;34m\u001b[0m\u001b[0;34m\u001b[0m\u001b[0m\n\u001b[1;32m     17\u001b[0m \u001b[0;34m\u001b[0m\u001b[0m\n\u001b[0;32m---> 18\u001b[0;31m \u001b[0mg2\u001b[0m\u001b[0;34m(\u001b[0m\u001b[0mlista\u001b[0m\u001b[0;34m)\u001b[0m\u001b[0;34m\u001b[0m\u001b[0;34m\u001b[0m\u001b[0m\n\u001b[0m",
            "\u001b[0;32m<ipython-input-3-6c5facb64bf6>\u001b[0m in \u001b[0;36mg2\u001b[0;34m(j)\u001b[0m\n\u001b[1;32m     14\u001b[0m     \u001b[0;32mreturn\u001b[0m \u001b[0;32mTrue\u001b[0m\u001b[0;34m\u001b[0m\u001b[0;34m\u001b[0m\u001b[0m\n\u001b[1;32m     15\u001b[0m   \u001b[0;32melse\u001b[0m\u001b[0;34m:\u001b[0m\u001b[0;34m\u001b[0m\u001b[0;34m\u001b[0m\u001b[0m\n\u001b[0;32m---> 16\u001b[0;31m     \u001b[0;32mreturn\u001b[0m \u001b[0mxpar\u001b[0m\u001b[0;34m(\u001b[0m\u001b[0mj\u001b[0m\u001b[0;34m[\u001b[0m\u001b[0;36m0\u001b[0m\u001b[0;34m]\u001b[0m\u001b[0;34m)\u001b[0m \u001b[0;32mand\u001b[0m \u001b[0mg1\u001b[0m\u001b[0;34m(\u001b[0m\u001b[0mj\u001b[0m\u001b[0;34m[\u001b[0m\u001b[0;36m1\u001b[0m\u001b[0;34m:\u001b[0m\u001b[0;34m:\u001b[0m\u001b[0;34m]\u001b[0m\u001b[0;34m)\u001b[0m\u001b[0;34m\u001b[0m\u001b[0;34m\u001b[0m\u001b[0m\n\u001b[0m\u001b[1;32m     17\u001b[0m \u001b[0;34m\u001b[0m\u001b[0m\n\u001b[1;32m     18\u001b[0m \u001b[0mg2\u001b[0m\u001b[0;34m(\u001b[0m\u001b[0mlista\u001b[0m\u001b[0;34m)\u001b[0m\u001b[0;34m\u001b[0m\u001b[0;34m\u001b[0m\u001b[0m\n",
            "\u001b[0;31mNameError\u001b[0m: name 'g1' is not defined"
          ]
        }
      ]
    }
  ]
}